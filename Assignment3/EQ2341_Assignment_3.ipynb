{
 "cells": [
  {
   "cell_type": "code",
   "execution_count": 2,
   "metadata": {},
   "outputs": [],
   "source": [
    "from PattRecClasses import GaussD, HMM, MarkovChain\n",
    "from matplotlib import pyplot as plt\n",
    "import numpy as np\n"
   ]
  },
  {
   "cell_type": "markdown",
   "metadata": {},
   "source": [
    "Load and clean the data"
   ]
  },
  {
   "cell_type": "markdown",
   "metadata": {},
   "source": [
    "The moving average method was copied from https://stackoverflow.com/questions/14313510/how-to-calculate-rolling-moving-average-using-python-numpy-scipy "
   ]
  },
  {
   "cell_type": "code",
   "execution_count": 3,
   "metadata": {},
   "outputs": [],
   "source": [
    "#Load the data\n",
    "import os \n",
    "\n",
    "data_dir = './data/training'\n",
    "test_dir = './data/testing' \n",
    "dirs = [\"/walk\",\"/stand\", \"/run\"]\n",
    "\n",
    "data_stand = os.listdir(data_dir)\n",
    "\n",
    "\n",
    "training_data = []\n",
    "test_data = []\n",
    "\n",
    "n = 6\n",
    "for i in data_stand:\n",
    "    #simple moving average\n",
    "    data = np.loadtxt((data_dir+\"/\"+i), usecols=[2,3,4])\n",
    "    ret = np.cumsum(data, dtype=float,axis=0)\n",
    "    ret[n:] = ret[n:] - ret[:-n]\n",
    "    data = ret[n - 1:] / n\n",
    "\n",
    "\n",
    "    #REMOVE the first and last 500 datapoints\n",
    "    training_data.append(data[500:-500,:])\n",
    "\n",
    "\n",
    "\n",
    "for i in dirs:\n",
    "    test_stand = os.listdir(test_dir + i)\n",
    "    for j in test_stand:\n",
    "        #simple moving average\n",
    "        data = np.loadtxt((test_dir+i+\"/\"+j), usecols=[2,3,4])\n",
    "        ret = np.cumsum(data, dtype=float,axis=0)\n",
    "        ret[n:] = ret[n:] - ret[:-n]\n",
    "        data = ret[n - 1:] / n\n",
    "\n",
    "        #REMOVE the first and last 500 datapoints\n",
    "        test_data.append((data[500:-500,:],i))\n"
   ]
  },
  {
   "cell_type": "markdown",
   "metadata": {},
   "source": [
    "Setting up HMM model"
   ]
  },
  {
   "cell_type": "code",
   "execution_count": 4,
   "metadata": {},
   "outputs": [],
   "source": [
    "#Set up Markovchain\n",
    "nr_states = 3\n",
    "mc = MarkovChain(np.array([1/nr_states, 1/nr_states, 1/nr_states]), np.array([[0.99, 0.005, 0.005], [0.005, 0.99, 0.005], [0.005, 0.005, 0.99]]))\n",
    "\n",
    "\n",
    "#setting up output gaussian\n",
    "cov1 = np.array([[1,0,0],[0,1,0], [0,0,1]])\n",
    "cov2 = np.array([[1,0,0],[0,1,0], [0,0,1]])\n",
    "cov3 = np.array([[1,0,0],[0,1,0], [0,0,1]])\n",
    "cov12 = np.array([[1,0,0],[0,1,0], [0,0,1]])\n",
    "cov22 = np.array([[1,0,0],[0,1,0], [0,0,1]])\n",
    "cov32 = np.array([[1,0,0],[0,1,0], [0,0,1]])\n",
    "g1 = GaussD(means=[0,-10,-0.1], cov=cov1)\n",
    "g2 = GaussD(means=[0,-10,0.1], cov=cov2)\n",
    "g3 = GaussD(means=[1,-10,-1], cov=cov3)\n",
    "g12 = GaussD(means=[1,-9,1], cov=cov12)\n",
    "g22 = GaussD(means=[1,-10,-3], cov=cov22)\n",
    "g32 = GaussD(means=[-1,-20,-10], cov=cov32)\n",
    "\n",
    "weights = [[0.9,0.1],[0.9, 0.1],[0.9, 0.1]]\n",
    "\n",
    "#create HMM\n",
    "hmm = HMM(mc, [[g1,g12],[g2, g22],[g3, g32]], weights)\n"
   ]
  },
  {
   "cell_type": "markdown",
   "metadata": {},
   "source": [
    "Measure Accruacy before training"
   ]
  },
  {
   "cell_type": "code",
   "execution_count": 5,
   "metadata": {},
   "outputs": [
    {
     "name": "stdout",
     "output_type": "stream",
     "text": [
      "walk test\n",
      "0.27219183845183004\n",
      "walk test\n",
      "0.29979879275653926\n",
      "walk test\n",
      "0.3112862369828314\n",
      "Stand test\n",
      "0.0\n",
      "Stand test\n",
      "1.0\n",
      "Stand test\n",
      "0.12805919180421171\n",
      "run test\n",
      "0.11581291759465479\n",
      "run test\n",
      "0.1456953642384106\n",
      "run test\n",
      "0.13177339901477833\n",
      "total acc: 0.267179748982584\n"
     ]
    }
   ],
   "source": [
    "total_acc = 0\n",
    "for r in range(len(test_data)):\n",
    "    predict_seq = hmm.log_viterbi(test_data[r][0])\n",
    "    seq_length = len(predict_seq)\n",
    "    if test_data[r][1] == '/stand':\n",
    "        print(\"Stand test\")\n",
    "        acc = np.sum(predict_seq == np.zeros(seq_length)) / seq_length\n",
    "    elif test_data[r][1] == '/run':\n",
    "        print(\"run test\")\n",
    "        acc = np.sum(predict_seq == np.full(seq_length,2)) / seq_length\n",
    "    elif test_data[r][1] == '/walk':\n",
    "        print(\"walk test\")\n",
    "        acc = np.sum(predict_seq == np.full(seq_length,1)) / seq_length\n",
    "    total_acc += acc    \n",
    "    print(acc)\n",
    "print(\"total acc:\", total_acc/len(test_data))"
   ]
  },
  {
   "cell_type": "markdown",
   "metadata": {},
   "source": [
    "Train the model:"
   ]
  },
  {
   "cell_type": "code",
   "execution_count": 6,
   "metadata": {},
   "outputs": [
    {
     "name": "stdout",
     "output_type": "stream",
     "text": [
      "epoch 0\n"
     ]
    }
   ],
   "source": [
    "for i in range(1):\n",
    "    print(\"epoch\", i)\n",
    "    hmm.train(training_data)"
   ]
  },
  {
   "cell_type": "code",
   "execution_count": 7,
   "metadata": {},
   "outputs": [
    {
     "name": "stdout",
     "output_type": "stream",
     "text": [
      "q:  [0.22402123 0.45147721 0.32450156]\n",
      "A:  [[0.95334749 0.02482487 0.02182763]\n",
      " [0.02078476 0.95594843 0.02326681]\n",
      " [0.02571648 0.05191006 0.92237346]]\n",
      "Weights:  [[0.3000590875166212, 0.6999409124833819], [0.7693192488218071, 0.2306807511782007], [0.4551311829478817, 0.5448688170521129]]\n",
      "mean:  [-2.43740118 -8.93695179  0.52295716]\n",
      "cov  [[0.00465728 0.         0.        ]\n",
      " [0.         0.01055272 0.        ]\n",
      " [0.         0.         0.00096757]]\n",
      "mean:  [ 0.41753952 -2.25347711  1.04256794]\n",
      "cov  [[0.00189498 0.         0.        ]\n",
      " [0.         0.00948893 0.        ]\n",
      " [0.         0.         0.00105663]]\n",
      "mean:  [ -1.43103614 -10.78867661   1.17047773]\n",
      "cov  [[0.0013923  0.         0.        ]\n",
      " [0.         0.00608844 0.        ]\n",
      " [0.         0.         0.0006193 ]]\n",
      "mean:  [ 1.49748742 -9.17879169 -5.31510025]\n",
      "cov  [[0.01126708 0.         0.        ]\n",
      " [0.         0.01195012 0.        ]\n",
      " [0.         0.         0.00214753]]\n",
      "mean:  [  2.84030961 -10.9808666   -1.32005761]\n",
      "cov  [[0.0013047  0.         0.        ]\n",
      " [0.         0.00488611 0.        ]\n",
      " [0.         0.         0.00038796]]\n",
      "mean:  [ -0.19265777 -28.93084737  -6.97173639]\n",
      "cov  [[0.24558314 0.         0.        ]\n",
      " [0.         0.97788452 0.        ]\n",
      " [0.         0.         1.        ]]\n"
     ]
    }
   ],
   "source": [
    "print(\"q: \", hmm.stateGen.q)\n",
    "print(\"A: \",hmm.stateGen.A)\n",
    "print(\"Weights: \", hmm.outoutWeights)\n",
    "for dis_list in hmm.outputDistr:\n",
    "    for dis in dis_list:\n",
    "        print(\"mean: \",dis.means)\n",
    "        print(\"cov \",dis.cov)"
   ]
  },
  {
   "cell_type": "markdown",
   "metadata": {},
   "source": [
    "TEST Trained model\n"
   ]
  },
  {
   "cell_type": "code",
   "execution_count": 8,
   "metadata": {},
   "outputs": [
    {
     "name": "stdout",
     "output_type": "stream",
     "text": [
      "walk test\n",
      "1.0\n",
      "walk test\n",
      "1.0\n",
      "walk test\n",
      "1.0\n",
      "Stand test\n",
      "0.0\n",
      "Stand test\n",
      "0.0\n",
      "Stand test\n",
      "0.0\n",
      "run test\n",
      "0.8950047725103404\n",
      "run test\n",
      "0.9417915650052283\n",
      "run test\n",
      "0.9735221674876847\n",
      "total acc: 0.6455909450003615\n"
     ]
    }
   ],
   "source": [
    "total_acc = 0\n",
    "for r in range(len(test_data)):\n",
    "    predict_seq = hmm.log_viterbi(test_data[r][0])\n",
    "    seq_length = len(predict_seq)\n",
    "    if test_data[r][1] == '/stand':\n",
    "        print(\"Stand test\")\n",
    "        acc = np.sum(predict_seq == np.zeros(seq_length)) / seq_length\n",
    "    elif test_data[r][1] == '/run':\n",
    "        print(\"run test\")\n",
    "        acc = np.sum(predict_seq == np.full(seq_length,2)) / seq_length\n",
    "    elif test_data[r][1] == '/walk':\n",
    "        print(\"walk test\")\n",
    "        acc = np.sum(predict_seq == np.full(seq_length,1)) / seq_length\n",
    "    total_acc += acc    \n",
    "    print(acc)\n",
    "print(\"total acc:\", total_acc/len(test_data))"
   ]
  }
 ],
 "metadata": {
  "kernelspec": {
   "display_name": "Python 3",
   "language": "python",
   "name": "python3"
  },
  "language_info": {
   "codemirror_mode": {
    "name": "ipython",
    "version": 3
   },
   "file_extension": ".py",
   "mimetype": "text/x-python",
   "name": "python",
   "nbconvert_exporter": "python",
   "pygments_lexer": "ipython3",
   "version": "3.8.10"
  }
 },
 "nbformat": 4,
 "nbformat_minor": 2
}
